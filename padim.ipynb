{
 "cells": [
  {
   "cell_type": "code",
   "execution_count": 12,
   "id": "eadd0013",
   "metadata": {},
   "outputs": [
    {
     "name": "stdout",
     "output_type": "stream",
     "text": [
      "Device: cuda\n"
     ]
    }
   ],
   "source": [
    "import random\n",
    "from random import sample\n",
    "import argparse\n",
    "import numpy as np\n",
    "import os\n",
    "import pickle\n",
    "from tqdm import tqdm\n",
    "from collections import OrderedDict\n",
    "from sklearn.metrics import roc_auc_score\n",
    "from sklearn.metrics import roc_curve\n",
    "from scipy.spatial.distance import mahalanobis\n",
    "from scipy.ndimage import gaussian_filter\n",
    "# from skimage import morphology\n",
    "# from skimage.segmentation import mark_boundaries\n",
    "import matplotlib.pyplot as plt\n",
    "import matplotlib\n",
    "\n",
    "import torch\n",
    "import torch.nn.functional as F\n",
    "from torch.utils.data import DataLoader\n",
    "from torchvision.models import wide_resnet50_2, resnet18\n",
    "# import datasets.mvtec as mvtec\n",
    "import datasets.bowtie as bowtie\n",
    "\n",
    "# device setup\n",
    "use_cuda = torch.cuda.is_available()\n",
    "device = torch.device('cuda' if use_cuda else 'cpu')\n",
    "print('Device:', device)\n"
   ]
  },
  {
   "cell_type": "code",
   "execution_count": 13,
   "id": "c7f5958f",
   "metadata": {},
   "outputs": [],
   "source": [
    "def denormalization(x):\n",
    "    mean = np.array([0.485, 0.456, 0.406])\n",
    "    std = np.array([0.229, 0.224, 0.225])\n",
    "    x = (((x.transpose(1, 2, 0) * std) + mean) * 255.).astype(np.uint8)\n",
    "    return x\n",
    "\n",
    "\n",
    "def embedding_concat(x, y):\n",
    "    B, C1, H1, W1 = x.size()\n",
    "    _, C2, H2, W2 = y.size()\n",
    "    s = int(H1 / H2)\n",
    "    x = F.unfold(x, kernel_size=s, dilation=1, stride=s)\n",
    "    x = x.view(B, C1, -1, H2, W2)\n",
    "    z = torch.zeros(B, C1 + C2, x.size(2), H2, W2)\n",
    "    for i in range(x.size(2)):\n",
    "        z[:, :, i, :, :] = torch.cat((x[:, :, i, :, :], y), 1)\n",
    "    z = z.view(B, -1, H2 * W2)\n",
    "    z = F.fold(z, kernel_size=s, output_size=(H1, W1), stride=s)\n",
    "    return z\n",
    "\n",
    "def plot_fig(test_img, scores, img_scores, save_dir, class_name):\n",
    "    num = len(scores)\n",
    "    vmax = scores.max() * 255.\n",
    "    vmin = scores.min() * 255.\n",
    "    for i in range(num):\n",
    "        img = test_img[i]\n",
    "        img = denormalization(img)\n",
    "        heat_map = scores[i] * 255\n",
    "        \n",
    "        fig_img, ax_img = plt.subplots(1, 3, figsize=(12, 4))\n",
    "        fig_img.subplots_adjust(right=0.9)\n",
    "        norm = matplotlib.colors.Normalize(vmin=vmin, vmax=vmax)\n",
    "        \n",
    "        for ax_i in ax_img:\n",
    "            ax_i.axes.xaxis.set_visible(False)\n",
    "            ax_i.axes.yaxis.set_visible(False)\n",
    "            \n",
    "        ax_img[0].imshow(img)\n",
    "        ax_img[0].title.set_text('Image')\n",
    "        \n",
    "        ax = ax_img[1].imshow(heat_map, cmap='jet', norm=norm)\n",
    "        ax_img[1].imshow(img, cmap='gray', interpolation='none')\n",
    "        ax_img[1].imshow(heat_map, cmap='jet', alpha=0.5, interpolation='none')\n",
    "        ax_img[1].title.set_text('Predicted heat map')\n",
    "        \n",
    "        # Add a placeholder for segmentation result and anomaly score\n",
    "        ax_img[2].imshow(img)\n",
    "        ax_img[2].title.set_text('Segmentation result')\n",
    "        ax_img[2].text(5, 20, f'Anomaly Score: {img_scores[i]:.3f}', color='white', backgroundcolor='black')\n",
    "\n",
    "\n",
    "        left = 0.92\n",
    "        bottom = 0.15\n",
    "        width = 0.015\n",
    "        height = 1 - 2 * bottom\n",
    "        rect = [left, bottom, width, height]\n",
    "        cbar_ax = fig_img.add_axes(rect)\n",
    "        cb = plt.colorbar(ax, shrink=0.6, cax=cbar_ax, fraction=0.046)\n",
    "        cb.ax.tick_params(labelsize=8)\n",
    "        font = {\n",
    "            'family': 'serif',\n",
    "            'color': 'black',\n",
    "            'weight': 'normal',\n",
    "            'size': 8,\n",
    "        }\n",
    "        cb.set_label('Anomaly Score', fontdict=font)\n",
    "\n",
    "        fig_img.savefig(os.path.join(save_dir, class_name + '_{}'.format(i)), dpi=100)\n",
    "        plt.close()\n"
   ]
  },
  {
   "cell_type": "code",
   "execution_count": 14,
   "id": "0bfcc0b0",
   "metadata": {},
   "outputs": [],
   "source": [
    "arch = \"wide_resnet50_2\"\n",
    "data_path = \"../anomaly_detection/data/BowTie-New/original\"\n",
    "save_path = \"./results/bowtie\"\n",
    "\n",
    "class_name = \"116\""
   ]
  },
  {
   "cell_type": "code",
   "execution_count": 15,
   "id": "f795ec2a",
   "metadata": {},
   "outputs": [],
   "source": [
    "# model = resnet18(pretrained=True, progress=True)\n",
    "# t_d = 448\n",
    "# d = 100\n",
    "\n",
    "model = wide_resnet50_2(pretrained=True, progress=True)\n",
    "t_d = 1792\n",
    "d = 550\n",
    "\n",
    "model.to(device)\n",
    "model.eval()\n",
    "random.seed(1024)\n",
    "torch.manual_seed(1024)\n",
    "if use_cuda:\n",
    "    torch.cuda.manual_seed_all(1024)\n",
    "\n",
    "idx = torch.tensor(sample(range(0, t_d), d))\n",
    "\n",
    "outputs = []\n",
    "\n",
    "def hook(module, input, output):\n",
    "    outputs.append(output)\n",
    "\n",
    "model.layer1[-1].register_forward_hook(hook)\n",
    "model.layer2[-1].register_forward_hook(hook)\n",
    "model.layer3[-1].register_forward_hook(hook)\n",
    "\n",
    "os.makedirs(os.path.join(save_path, 'temp_%s' % arch), exist_ok=True)"
   ]
  },
  {
   "cell_type": "code",
   "execution_count": 16,
   "id": "8764257e",
   "metadata": {},
   "outputs": [],
   "source": [
    "total_roc_auc = []\n",
    "\n",
    "train_dataset = bowtie.BowtieDataset(data_path, class_name=class_name, is_train=True, resize=512, cropsize=400)\n",
    "train_dataloader = DataLoader(train_dataset, batch_size=32, pin_memory=True)\n",
    "test_dataset = bowtie.BowtieDataset(data_path, class_name=class_name, is_train=False, resize=512, cropsize=400)\n",
    "test_dataloader = DataLoader(test_dataset, batch_size=32, pin_memory=True)\n",
    "\n",
    "train_outputs = OrderedDict([('layer1', []), ('layer2', []), ('layer3', [])])\n",
    "test_outputs = OrderedDict([('layer1', []), ('layer2', []), ('layer3', [])])"
   ]
  },
  {
   "cell_type": "code",
   "execution_count": 17,
   "id": "522a6064",
   "metadata": {},
   "outputs": [
    {
     "name": "stdout",
     "output_type": "stream",
     "text": [
      "class_name: 116, is_train: True\n",
      "number of data: 89\n",
      "number of good: 89, number of anomaly: 0\n",
      "dataset path: ../anomaly_detection/data/BowTie-New/original\n",
      "image directory: ../anomaly_detection/data/BowTie-New/original/116/train\n"
     ]
    }
   ],
   "source": [
    "train_dataset.print_dataset_info()"
   ]
  },
  {
   "cell_type": "code",
   "execution_count": 30,
   "id": "9621c420",
   "metadata": {},
   "outputs": [
    {
     "data": {
      "text/plain": [
       "['../anomaly_detection/data/BowTie-New/original/116/train/good/004.jpg',\n",
       " '../anomaly_detection/data/BowTie-New/original/116/train/good/005.jpg',\n",
       " '../anomaly_detection/data/BowTie-New/original/116/train/good/006.jpg',\n",
       " '../anomaly_detection/data/BowTie-New/original/116/train/good/008.jpg',\n",
       " '../anomaly_detection/data/BowTie-New/original/116/train/good/009.jpg',\n",
       " '../anomaly_detection/data/BowTie-New/original/116/train/good/012.jpg',\n",
       " '../anomaly_detection/data/BowTie-New/original/116/train/good/013.jpg',\n",
       " '../anomaly_detection/data/BowTie-New/original/116/train/good/014.jpg',\n",
       " '../anomaly_detection/data/BowTie-New/original/116/train/good/017.jpg',\n",
       " '../anomaly_detection/data/BowTie-New/original/116/train/good/020.jpg',\n",
       " '../anomaly_detection/data/BowTie-New/original/116/train/good/022.jpg',\n",
       " '../anomaly_detection/data/BowTie-New/original/116/train/good/023.jpg',\n",
       " '../anomaly_detection/data/BowTie-New/original/116/train/good/024.jpg',\n",
       " '../anomaly_detection/data/BowTie-New/original/116/train/good/025.jpg',\n",
       " '../anomaly_detection/data/BowTie-New/original/116/train/good/026.jpg',\n",
       " '../anomaly_detection/data/BowTie-New/original/116/train/good/027.jpg',\n",
       " '../anomaly_detection/data/BowTie-New/original/116/train/good/028.jpg',\n",
       " '../anomaly_detection/data/BowTie-New/original/116/train/good/030.jpg',\n",
       " '../anomaly_detection/data/BowTie-New/original/116/train/good/031.jpg',\n",
       " '../anomaly_detection/data/BowTie-New/original/116/train/good/033.jpg',\n",
       " '../anomaly_detection/data/BowTie-New/original/116/train/good/035.jpg',\n",
       " '../anomaly_detection/data/BowTie-New/original/116/train/good/036.jpg',\n",
       " '../anomaly_detection/data/BowTie-New/original/116/train/good/037.jpg',\n",
       " '../anomaly_detection/data/BowTie-New/original/116/train/good/038.jpg',\n",
       " '../anomaly_detection/data/BowTie-New/original/116/train/good/039.jpg',\n",
       " '../anomaly_detection/data/BowTie-New/original/116/train/good/040.jpg',\n",
       " '../anomaly_detection/data/BowTie-New/original/116/train/good/041.jpg',\n",
       " '../anomaly_detection/data/BowTie-New/original/116/train/good/042.jpg',\n",
       " '../anomaly_detection/data/BowTie-New/original/116/train/good/044.jpg',\n",
       " '../anomaly_detection/data/BowTie-New/original/116/train/good/045.jpg',\n",
       " '../anomaly_detection/data/BowTie-New/original/116/train/good/047.jpg',\n",
       " '../anomaly_detection/data/BowTie-New/original/116/train/good/049.jpg',\n",
       " '../anomaly_detection/data/BowTie-New/original/116/train/good/053.jpg',\n",
       " '../anomaly_detection/data/BowTie-New/original/116/train/good/054.jpg',\n",
       " '../anomaly_detection/data/BowTie-New/original/116/train/good/055.jpg',\n",
       " '../anomaly_detection/data/BowTie-New/original/116/train/good/056.jpg',\n",
       " '../anomaly_detection/data/BowTie-New/original/116/train/good/057.jpg',\n",
       " '../anomaly_detection/data/BowTie-New/original/116/train/good/058.jpg',\n",
       " '../anomaly_detection/data/BowTie-New/original/116/train/good/060.jpg',\n",
       " '../anomaly_detection/data/BowTie-New/original/116/train/good/061.jpg',\n",
       " '../anomaly_detection/data/BowTie-New/original/116/train/good/063.jpg',\n",
       " '../anomaly_detection/data/BowTie-New/original/116/train/good/064.jpg',\n",
       " '../anomaly_detection/data/BowTie-New/original/116/train/good/065.jpg',\n",
       " '../anomaly_detection/data/BowTie-New/original/116/train/good/067.jpg',\n",
       " '../anomaly_detection/data/BowTie-New/original/116/train/good/068.jpg',\n",
       " '../anomaly_detection/data/BowTie-New/original/116/train/good/069.jpg',\n",
       " '../anomaly_detection/data/BowTie-New/original/116/train/good/070.jpg',\n",
       " '../anomaly_detection/data/BowTie-New/original/116/train/good/072.jpg',\n",
       " '../anomaly_detection/data/BowTie-New/original/116/train/good/074.jpg',\n",
       " '../anomaly_detection/data/BowTie-New/original/116/train/good/075.jpg',\n",
       " '../anomaly_detection/data/BowTie-New/original/116/train/good/076.jpg',\n",
       " '../anomaly_detection/data/BowTie-New/original/116/train/good/077.jpg',\n",
       " '../anomaly_detection/data/BowTie-New/original/116/train/good/080.jpg',\n",
       " '../anomaly_detection/data/BowTie-New/original/116/train/good/082.jpg',\n",
       " '../anomaly_detection/data/BowTie-New/original/116/train/good/086.jpg',\n",
       " '../anomaly_detection/data/BowTie-New/original/116/train/good/088.jpg',\n",
       " '../anomaly_detection/data/BowTie-New/original/116/train/good/089.jpg',\n",
       " '../anomaly_detection/data/BowTie-New/original/116/train/good/092.jpg',\n",
       " '../anomaly_detection/data/BowTie-New/original/116/train/good/093.jpg',\n",
       " '../anomaly_detection/data/BowTie-New/original/116/train/good/094.jpg',\n",
       " '../anomaly_detection/data/BowTie-New/original/116/train/good/095.jpg',\n",
       " '../anomaly_detection/data/BowTie-New/original/116/train/good/096.jpg',\n",
       " '../anomaly_detection/data/BowTie-New/original/116/train/good/097.jpg',\n",
       " '../anomaly_detection/data/BowTie-New/original/116/train/good/098.jpg',\n",
       " '../anomaly_detection/data/BowTie-New/original/116/train/good/101.jpg',\n",
       " '../anomaly_detection/data/BowTie-New/original/116/train/good/105.jpg',\n",
       " '../anomaly_detection/data/BowTie-New/original/116/train/good/106.jpg',\n",
       " '../anomaly_detection/data/BowTie-New/original/116/train/good/107.jpg',\n",
       " '../anomaly_detection/data/BowTie-New/original/116/train/good/108.jpg',\n",
       " '../anomaly_detection/data/BowTie-New/original/116/train/good/109.jpg',\n",
       " '../anomaly_detection/data/BowTie-New/original/116/train/good/110.jpg',\n",
       " '../anomaly_detection/data/BowTie-New/original/116/train/good/111.jpg',\n",
       " '../anomaly_detection/data/BowTie-New/original/116/train/good/114.jpg',\n",
       " '../anomaly_detection/data/BowTie-New/original/116/train/good/115.jpg',\n",
       " '../anomaly_detection/data/BowTie-New/original/116/train/good/117.jpg',\n",
       " '../anomaly_detection/data/BowTie-New/original/116/train/good/118.jpg',\n",
       " '../anomaly_detection/data/BowTie-New/original/116/train/good/119.jpg',\n",
       " '../anomaly_detection/data/BowTie-New/original/116/train/good/121.jpg',\n",
       " '../anomaly_detection/data/BowTie-New/original/116/train/good/124.jpg',\n",
       " '../anomaly_detection/data/BowTie-New/original/116/train/good/125.jpg',\n",
       " '../anomaly_detection/data/BowTie-New/original/116/train/good/128.jpg',\n",
       " '../anomaly_detection/data/BowTie-New/original/116/train/good/129.jpg',\n",
       " '../anomaly_detection/data/BowTie-New/original/116/train/good/130.jpg',\n",
       " '../anomaly_detection/data/BowTie-New/original/116/train/good/131.jpg',\n",
       " '../anomaly_detection/data/BowTie-New/original/116/train/good/132.jpg',\n",
       " '../anomaly_detection/data/BowTie-New/original/116/train/good/133.jpg',\n",
       " '../anomaly_detection/data/BowTie-New/original/116/train/good/134.jpg',\n",
       " '../anomaly_detection/data/BowTie-New/original/116/train/good/135.jpg',\n",
       " '../anomaly_detection/data/BowTie-New/original/116/train/good/138.jpg']"
      ]
     },
     "execution_count": 30,
     "metadata": {},
     "output_type": "execute_result"
    }
   ],
   "source": [
    "train_dataset.x"
   ]
  },
  {
   "cell_type": "code",
   "execution_count": 18,
   "id": "aa9abbcc",
   "metadata": {},
   "outputs": [
    {
     "name": "stderr",
     "output_type": "stream",
     "text": [
      "| feature extraction | train | 116 |: 100%|██████████| 3/3 [00:08<00:00,  2.70s/it]\n"
     ]
    }
   ],
   "source": [
    "train_feature_filepath = os.path.join(save_path, 'temp_%s' % arch, 'train_%s.pkl' % class_name)\n",
    "if not os.path.exists(train_feature_filepath):\n",
    "    for (x, _, _) in tqdm(train_dataloader, '| feature extraction | train | %s |' % class_name):\n",
    "        with torch.no_grad():\n",
    "            _ = model(x.to(device))\n",
    "        for k, v in zip(train_outputs.keys(), outputs):\n",
    "            train_outputs[k].append(v.cpu().detach())\n",
    "        outputs = []\n",
    "    for k, v in train_outputs.items():\n",
    "        train_outputs[k] = torch.cat(v, 0)\n",
    "\n",
    "    embedding_vectors = train_outputs['layer1']\n",
    "    for layer_name in ['layer2', 'layer3']:\n",
    "        embedding_vectors = embedding_concat(embedding_vectors, train_outputs[layer_name])\n",
    "\n",
    "    embedding_vectors = torch.index_select(embedding_vectors, 1, idx)\n",
    "    B, C, H, W = embedding_vectors.size()\n",
    "    embedding_vectors = embedding_vectors.view(B, C, H * W)\n",
    "    mean = torch.mean(embedding_vectors, dim=0).numpy()\n",
    "    cov = torch.zeros(C, C, H * W).numpy()\n",
    "    I = np.identity(C)\n",
    "    for i in range(H * W):\n",
    "        cov[:, :, i] = np.cov(embedding_vectors[:, :, i].numpy(), rowvar=False) + 0.01 * I\n",
    "    train_outputs = [mean, cov]\n",
    "    with open(train_feature_filepath, 'wb') as f:\n",
    "        pickle.dump(train_outputs, f)\n",
    "else:\n",
    "    print('load train set feature from: %s' % train_feature_filepath)\n",
    "    with open(train_feature_filepath, 'rb') as f:\n",
    "        train_outputs = pickle.load(f)\n"
   ]
  },
  {
   "cell_type": "code",
   "execution_count": 19,
   "id": "79229867",
   "metadata": {},
   "outputs": [
    {
     "name": "stderr",
     "output_type": "stream",
     "text": [
      "| feature extraction | test | 116 |: 100%|██████████| 1/1 [00:03<00:00,  3.86s/it]\n"
     ]
    }
   ],
   "source": [
    "gt_list = []\n",
    "test_imgs = []\n",
    "\n",
    "for (x, y, _) in tqdm(test_dataloader, '| feature extraction | test | %s |' % class_name):\n",
    "    test_imgs.extend(x.cpu().detach().numpy())\n",
    "    gt_list.extend(y.cpu().detach().numpy())\n",
    "    with torch.no_grad():\n",
    "        _ = model(x.to(device))\n",
    "    for k, v in zip(test_outputs.keys(), outputs):\n",
    "        test_outputs[k].append(v.cpu().detach())\n",
    "    outputs = []"
   ]
  },
  {
   "cell_type": "code",
   "execution_count": 20,
   "id": "16ce84ae",
   "metadata": {},
   "outputs": [],
   "source": [
    "for k, v in test_outputs.items():\n",
    "    test_outputs[k] = torch.cat(v, 0)"
   ]
  },
  {
   "cell_type": "code",
   "execution_count": 21,
   "id": "0ed1569f",
   "metadata": {},
   "outputs": [],
   "source": [
    "embedding_vectors = test_outputs['layer1']\n",
    "for layer_name in ['layer2', 'layer3']:\n",
    "    embedding_vectors = embedding_concat(embedding_vectors, test_outputs[layer_name])"
   ]
  },
  {
   "cell_type": "code",
   "execution_count": 22,
   "id": "3edaebed",
   "metadata": {},
   "outputs": [],
   "source": [
    "embedding_vectors = torch.index_select(embedding_vectors, 1, idx)\n",
    "B, C, H, W = embedding_vectors.size()\n",
    "embedding_vectors = embedding_vectors.view(B, C, H * W).numpy()\n",
    "dist_list = []\n",
    "for i in range(H * W):\n",
    "    mean = train_outputs[0][:, i]\n",
    "    conv_inv = np.linalg.inv(train_outputs[1][:, :, i])\n",
    "    dist = [mahalanobis(sample[:, i], mean, conv_inv) for sample in embedding_vectors]\n",
    "    dist_list.append(dist)"
   ]
  },
  {
   "cell_type": "code",
   "execution_count": 23,
   "id": "4fa432ac",
   "metadata": {},
   "outputs": [],
   "source": [
    "dist_list = np.array(dist_list).transpose(1, 0).reshape(B, H, W)\n",
    "dist_list = torch.tensor(dist_list)\n",
    "score_map = F.interpolate(dist_list.unsqueeze(1), size=x.size(2), mode='bilinear',\n",
    "                            align_corners=False).squeeze().numpy()"
   ]
  },
  {
   "cell_type": "code",
   "execution_count": 24,
   "id": "f68e8136",
   "metadata": {},
   "outputs": [],
   "source": [
    "for i in range(score_map.shape[0]):\n",
    "    score_map[i] = gaussian_filter(score_map[i], sigma=4)"
   ]
  },
  {
   "cell_type": "code",
   "execution_count": 25,
   "id": "a5fcf915",
   "metadata": {},
   "outputs": [],
   "source": [
    "max_score = score_map.max()\n",
    "min_score = score_map.min()\n",
    "scores = (score_map - min_score) / (max_score - min_score)"
   ]
  },
  {
   "cell_type": "code",
   "execution_count": 26,
   "id": "5c048f34",
   "metadata": {},
   "outputs": [
    {
     "name": "stderr",
     "output_type": "stream",
     "text": [
      "/home/mikeszklarz/anaconda3/envs/padim/lib/python3.13/site-packages/sklearn/metrics/_ranking.py:1192: UndefinedMetricWarning: No negative samples in y_true, false positive value should be meaningless\n",
      "  warnings.warn(\n",
      "/home/mikeszklarz/anaconda3/envs/padim/lib/python3.13/site-packages/sklearn/metrics/_ranking.py:424: UndefinedMetricWarning: Only one class is present in y_true. ROC AUC score is not defined in that case.\n",
      "  warnings.warn(\n"
     ]
    }
   ],
   "source": [
    "img_scores = scores.reshape(scores.shape[0], -1).max(axis=1)\n",
    "gt_list = np.asarray(gt_list)\n",
    "fpr, tpr, _ = roc_curve(gt_list, img_scores)\n",
    "img_roc_auc = roc_auc_score(gt_list, img_scores)\n",
    "total_roc_auc.append(img_roc_auc)"
   ]
  },
  {
   "cell_type": "code",
   "execution_count": 27,
   "id": "36b954ba",
   "metadata": {},
   "outputs": [
    {
     "name": "stdout",
     "output_type": "stream",
     "text": [
      "image ROCAUC: nan\n"
     ]
    },
    {
     "data": {
      "image/png": "[encoded data removed]",
      "text/plain": [
       "<Figure size 1000x1000 with 1 Axes>"
      ]
     },
     "metadata": {},
     "output_type": "display_data"
    }
   ],
   "source": [
    "fig, ax = plt.subplots(1, 1, figsize=(10, 10))\n",
    "fig_img_rocauc = ax\n",
    "\n",
    "print('image ROCAUC: %.3f' % (img_roc_auc))\n",
    "fig_img_rocauc.plot(fpr, tpr, label='%s img_ROCAUC: %.3f' % (class_name, img_roc_auc))\n",
    "\n",
    "save_dir = save_path + '/' + f'pictures_{arch}'\n",
    "os.makedirs(save_dir, exist_ok=True)\n",
    "plot_fig(test_imgs, scores, img_scores, save_dir, class_name)"
   ]
  }
 ],
 "metadata": {
  "kernelspec": {
   "display_name": "padim",
   "language": "python",
   "name": "python3"
  },
  "language_info": {
   "codemirror_mode": {
    "name": "ipython",
    "version": 3
   },
   "file_extension": ".py",
   "mimetype": "text/x-python",
   "name": "python",
   "nbconvert_exporter": "python",
   "pygments_lexer": "ipython3",
   "version": "3.13.7"
  }
 },
 "nbformat": 4,
 "nbformat_minor": 5
}
